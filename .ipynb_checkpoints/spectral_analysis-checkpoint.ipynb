{
 "cells": [
  {
   "cell_type": "code",
   "execution_count": null,
   "metadata": {
    "colab": {
     "base_uri": "https://localhost:8080/",
     "height": 161
    },
    "colab_type": "code",
    "id": "8GQmJTPB7Qqv",
    "outputId": "86a1a552-3686-4b21-dcf9-4896dc37f1a5"
   },
   "outputs": [],
   "source": [
    "!git clone --single-branch --branch google-colab https://github.com/csepreghy/spectral_analysis.git"
   ]
  },
  {
   "cell_type": "code",
   "execution_count": null,
   "metadata": {
    "colab": {
     "base_uri": "https://localhost:8080/",
     "height": 1000
    },
    "colab_type": "code",
    "id": "SK-eMOZarDCo",
    "outputId": "94f9bad4-e49d-414c-d6b0-4519ae8ad0a5"
   },
   "outputs": [],
   "source": [
    "!pip install tables --upgrade\n",
    "!pip install tensorflow --upgrade\n",
    "!pip install keras-tuner"
   ]
  },
  {
   "cell_type": "code",
   "execution_count": null,
   "metadata": {
    "colab": {
     "base_uri": "https://localhost:8080/",
     "height": 127
    },
    "colab_type": "code",
    "id": "LyueDcRRkvX1",
    "outputId": "513617b9-4fc8-4f8f-91a6-9a97d86a1112"
   },
   "outputs": [],
   "source": [
    "from google.colab import drive\n",
    "drive.mount('/content/drive')"
   ]
  },
  {
   "cell_type": "code",
   "execution_count": null,
   "metadata": {
    "colab": {
     "base_uri": "https://localhost:8080/",
     "height": 55
    },
    "colab_type": "code",
    "id": "eFDUpej77WXc",
    "outputId": "4b0d6708-4274-469d-856e-561c910deab0"
   },
   "outputs": [],
   "source": [
    "import pandas as pd\n",
    "from spectral_analysis.spectral_analysis.classifiers.neural_network.mixed_input import MixedInputModel"
   ]
  },
  {
   "cell_type": "code",
   "execution_count": null,
   "metadata": {
    "colab": {
     "base_uri": "https://localhost:8080/",
     "height": 483,
     "referenced_widgets": [
      "0aa06089cfac4dc5a16de5609b886501",
      "6130d56541e3469b893628f4595966c9",
      "6bd8e9c10e5b428bb148a89ff587df0f",
      "0408dc3f421846008370f09e05b49fb7",
      "0f03cda2b9a24f129ddcc67c9deb8696",
      "4c6b5224d29948cdbe641247d3ac7a56",
      "624fa96afac04aaeafa34affebc82e78",
      "d4dba2dd934647baa8139e67e7977e21"
     ]
    },
    "colab_type": "code",
    "id": "sSbO6_uY88wg",
    "outputId": "e3b79d13-d92a-42e5-82ca-72d69fb93b21"
   },
   "outputs": [],
   "source": [
    "df_fluxes1 = pd.read_hdf('drive/My Drive/spectral_analysis_data/0-50_o_fluxes.h5', key='fluxes')\n",
    "df_source_info1 = pd.read_hdf('drive/My Drive/spectral_analysis_data/0-50_o_fluxes.h5', key='spectral_data')\n",
    "\n",
    "df_fluxes2 = pd.read_hdf('drive/My Drive/spectral_analysis_data/50-100_o_fluxes.h5', key='fluxes')\n",
    "df_source_info2 = pd.read_hdf('drive/My Drive/spectral_analysis_data/50-100_o_fluxes.h5', key='spectral_data')\n",
    "\n",
    "df_fluxes = pd.concat([df_fluxes1, df_fluxes2], ignore_index=True)\n",
    "df_source_info = pd.concat([df_source_info1, df_source_info2], ignore_index=True, sort=False)\n",
    "\n",
    "mixed_input_model = MixedInputModel()\n",
    "mixed_input_model.train(df_source_info, df_fluxes)"
   ]
  },
  {
   "cell_type": "code",
   "execution_count": null,
   "metadata": {
    "colab": {},
    "colab_type": "code",
    "id": "5-ALnmHOoBo5"
   },
   "outputs": [],
   "source": []
  }
 ],
 "metadata": {
  "accelerator": "GPU",
  "colab": {
   "collapsed_sections": [],
   "name": "Spectral Analysis.ipynb",
   "provenance": [],
   "toc_visible": true
  },
  "kernelspec": {
   "display_name": "Python 3",
   "language": "python",
   "name": "python3"
  },
  "language_info": {
   "codemirror_mode": {
    "name": "ipython",
    "version": 3
   },
   "file_extension": ".py",
   "mimetype": "text/x-python",
   "name": "python",
   "nbconvert_exporter": "python",
   "pygments_lexer": "ipython3",
   "version": "3.7.4"
  },
  "widgets": {
   "application/vnd.jupyter.widget-state+json": {
    "0408dc3f421846008370f09e05b49fb7": {
     "model_module": "@jupyter-widgets/controls",
     "model_name": "HTMLModel",
     "state": {
      "_dom_classes": [],
      "_model_module": "@jupyter-widgets/controls",
      "_model_module_version": "1.5.0",
      "_model_name": "HTMLModel",
      "_view_count": null,
      "_view_module": "@jupyter-widgets/controls",
      "_view_module_version": "1.5.0",
      "_view_name": "HTMLView",
      "description": "",
      "description_tooltip": null,
      "layout": "IPY_MODEL_d4dba2dd934647baa8139e67e7977e21",
      "placeholder": "​",
      "style": "IPY_MODEL_624fa96afac04aaeafa34affebc82e78",
      "value": "100% 70369/70369 [00:19&lt;00:00, 3613.42it/s]"
     }
    },
    "0aa06089cfac4dc5a16de5609b886501": {
     "model_module": "@jupyter-widgets/controls",
     "model_name": "HBoxModel",
     "state": {
      "_dom_classes": [],
      "_model_module": "@jupyter-widgets/controls",
      "_model_module_version": "1.5.0",
      "_model_name": "HBoxModel",
      "_view_count": null,
      "_view_module": "@jupyter-widgets/controls",
      "_view_module_version": "1.5.0",
      "_view_name": "HBoxView",
      "box_style": "",
      "children": [
       "IPY_MODEL_6bd8e9c10e5b428bb148a89ff587df0f",
       "IPY_MODEL_0408dc3f421846008370f09e05b49fb7"
      ],
      "layout": "IPY_MODEL_6130d56541e3469b893628f4595966c9"
     }
    },
    "0f03cda2b9a24f129ddcc67c9deb8696": {
     "model_module": "@jupyter-widgets/controls",
     "model_name": "ProgressStyleModel",
     "state": {
      "_model_module": "@jupyter-widgets/controls",
      "_model_module_version": "1.5.0",
      "_model_name": "ProgressStyleModel",
      "_view_count": null,
      "_view_module": "@jupyter-widgets/base",
      "_view_module_version": "1.2.0",
      "_view_name": "StyleView",
      "bar_color": null,
      "description_width": "initial"
     }
    },
    "4c6b5224d29948cdbe641247d3ac7a56": {
     "model_module": "@jupyter-widgets/base",
     "model_name": "LayoutModel",
     "state": {
      "_model_module": "@jupyter-widgets/base",
      "_model_module_version": "1.2.0",
      "_model_name": "LayoutModel",
      "_view_count": null,
      "_view_module": "@jupyter-widgets/base",
      "_view_module_version": "1.2.0",
      "_view_name": "LayoutView",
      "align_content": null,
      "align_items": null,
      "align_self": null,
      "border": null,
      "bottom": null,
      "display": null,
      "flex": null,
      "flex_flow": null,
      "grid_area": null,
      "grid_auto_columns": null,
      "grid_auto_flow": null,
      "grid_auto_rows": null,
      "grid_column": null,
      "grid_gap": null,
      "grid_row": null,
      "grid_template_areas": null,
      "grid_template_columns": null,
      "grid_template_rows": null,
      "height": null,
      "justify_content": null,
      "justify_items": null,
      "left": null,
      "margin": null,
      "max_height": null,
      "max_width": null,
      "min_height": null,
      "min_width": null,
      "object_fit": null,
      "object_position": null,
      "order": null,
      "overflow": null,
      "overflow_x": null,
      "overflow_y": null,
      "padding": null,
      "right": null,
      "top": null,
      "visibility": null,
      "width": null
     }
    },
    "6130d56541e3469b893628f4595966c9": {
     "model_module": "@jupyter-widgets/base",
     "model_name": "LayoutModel",
     "state": {
      "_model_module": "@jupyter-widgets/base",
      "_model_module_version": "1.2.0",
      "_model_name": "LayoutModel",
      "_view_count": null,
      "_view_module": "@jupyter-widgets/base",
      "_view_module_version": "1.2.0",
      "_view_name": "LayoutView",
      "align_content": null,
      "align_items": null,
      "align_self": null,
      "border": null,
      "bottom": null,
      "display": null,
      "flex": null,
      "flex_flow": null,
      "grid_area": null,
      "grid_auto_columns": null,
      "grid_auto_flow": null,
      "grid_auto_rows": null,
      "grid_column": null,
      "grid_gap": null,
      "grid_row": null,
      "grid_template_areas": null,
      "grid_template_columns": null,
      "grid_template_rows": null,
      "height": null,
      "justify_content": null,
      "justify_items": null,
      "left": null,
      "margin": null,
      "max_height": null,
      "max_width": null,
      "min_height": null,
      "min_width": null,
      "object_fit": null,
      "object_position": null,
      "order": null,
      "overflow": null,
      "overflow_x": null,
      "overflow_y": null,
      "padding": null,
      "right": null,
      "top": null,
      "visibility": null,
      "width": null
     }
    },
    "624fa96afac04aaeafa34affebc82e78": {
     "model_module": "@jupyter-widgets/controls",
     "model_name": "DescriptionStyleModel",
     "state": {
      "_model_module": "@jupyter-widgets/controls",
      "_model_module_version": "1.5.0",
      "_model_name": "DescriptionStyleModel",
      "_view_count": null,
      "_view_module": "@jupyter-widgets/base",
      "_view_module_version": "1.2.0",
      "_view_name": "StyleView",
      "description_width": ""
     }
    },
    "6bd8e9c10e5b428bb148a89ff587df0f": {
     "model_module": "@jupyter-widgets/controls",
     "model_name": "IntProgressModel",
     "state": {
      "_dom_classes": [],
      "_model_module": "@jupyter-widgets/controls",
      "_model_module_version": "1.5.0",
      "_model_name": "IntProgressModel",
      "_view_count": null,
      "_view_module": "@jupyter-widgets/controls",
      "_view_module_version": "1.5.0",
      "_view_name": "ProgressView",
      "bar_style": "success",
      "description": "Preparing Data: ",
      "description_tooltip": null,
      "layout": "IPY_MODEL_4c6b5224d29948cdbe641247d3ac7a56",
      "max": 70369,
      "min": 0,
      "orientation": "horizontal",
      "style": "IPY_MODEL_0f03cda2b9a24f129ddcc67c9deb8696",
      "value": 70369
     }
    },
    "d4dba2dd934647baa8139e67e7977e21": {
     "model_module": "@jupyter-widgets/base",
     "model_name": "LayoutModel",
     "state": {
      "_model_module": "@jupyter-widgets/base",
      "_model_module_version": "1.2.0",
      "_model_name": "LayoutModel",
      "_view_count": null,
      "_view_module": "@jupyter-widgets/base",
      "_view_module_version": "1.2.0",
      "_view_name": "LayoutView",
      "align_content": null,
      "align_items": null,
      "align_self": null,
      "border": null,
      "bottom": null,
      "display": null,
      "flex": null,
      "flex_flow": null,
      "grid_area": null,
      "grid_auto_columns": null,
      "grid_auto_flow": null,
      "grid_auto_rows": null,
      "grid_column": null,
      "grid_gap": null,
      "grid_row": null,
      "grid_template_areas": null,
      "grid_template_columns": null,
      "grid_template_rows": null,
      "height": null,
      "justify_content": null,
      "justify_items": null,
      "left": null,
      "margin": null,
      "max_height": null,
      "max_width": null,
      "min_height": null,
      "min_width": null,
      "object_fit": null,
      "object_position": null,
      "order": null,
      "overflow": null,
      "overflow_x": null,
      "overflow_y": null,
      "padding": null,
      "right": null,
      "top": null,
      "visibility": null,
      "width": null
     }
    }
   }
  }
 },
 "nbformat": 4,
 "nbformat_minor": 1
}
